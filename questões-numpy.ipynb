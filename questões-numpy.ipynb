{
 "cells": [
  {
   "cell_type": "markdown",
   "id": "f7a4ccf7",
   "metadata": {},
   "source": [
    "# EXERCÍCIOS COM NUMPY\n",
    "**Essas são as resoluções de algumas questões de análise de dados com a biblioteca numpy**"
   ]
  },
  {
   "cell_type": "code",
   "execution_count": 1,
   "id": "0f366e47",
   "metadata": {},
   "outputs": [],
   "source": [
    "#Importando a biblioteca:\n",
    "import numpy as np"
   ]
  },
  {
   "cell_type": "code",
   "execution_count": 2,
   "id": "95ea4eb1",
   "metadata": {},
   "outputs": [
    {
     "name": "stdout",
     "output_type": "stream",
     "text": [
      "[[ True  True  True]\n",
      " [ True  True  True]\n",
      " [ True  True  True]\n",
      " [ True  True  True]]\n"
     ]
    }
   ],
   "source": [
    "#Martiz de booleanos 4x3:\n",
    "a = np.full((4,3), True, dtype=bool)\n",
    "print(a)"
   ]
  },
  {
   "cell_type": "code",
   "execution_count": 4,
   "id": "5d2adf69",
   "metadata": {},
   "outputs": [
    {
     "name": "stdout",
     "output_type": "stream",
     "text": [
      "[[False False]\n",
      " [False False]]\n"
     ]
    }
   ],
   "source": [
    "#Martiz de booleanos 2x2:\n",
    "b = np.full((2,2), False, dtype=bool)\n",
    "print(b)"
   ]
  },
  {
   "cell_type": "code",
   "execution_count": 5,
   "id": "0f2f90c7",
   "metadata": {},
   "outputs": [
    {
     "data": {
      "text/plain": [
       "array([1, 3, 5, 7, 9])"
      ]
     },
     "execution_count": 5,
     "metadata": {},
     "output_type": "execute_result"
    }
   ],
   "source": [
    "#Extraindo todos os números ímpares do array c:\n",
    "c = np.array([0,1,2,3,4,5,6,7,8,9])\n",
    "c[c % 2 == 1]"
   ]
  },
  {
   "cell_type": "code",
   "execution_count": 6,
   "id": "35e4aaba",
   "metadata": {},
   "outputs": [
    {
     "data": {
      "text/plain": [
       "array([0, 2, 4, 6, 8])"
      ]
     },
     "execution_count": 6,
     "metadata": {},
     "output_type": "execute_result"
    }
   ],
   "source": [
    "#Extraindo todos os números pares do array d:\n",
    "d = np.array([0,1,2,3,4,5,6,7,8,9])\n",
    "d[d % 2 == 0]"
   ]
  },
  {
   "cell_type": "code",
   "execution_count": 7,
   "id": "95ef09e9",
   "metadata": {},
   "outputs": [
    {
     "data": {
      "text/plain": [
       "array([ 0, -1,  2, -1,  4, -1,  6, -1,  8, -1])"
      ]
     },
     "execution_count": 7,
     "metadata": {},
     "output_type": "execute_result"
    }
   ],
   "source": [
    "#Substituindo todos os números ímpares do array e por -1\n",
    "e = np.array([0,1,2,3,4,5,6,7,8,9])\n",
    "e[e % 2 == 1] = -1\n",
    "e"
   ]
  },
  {
   "cell_type": "code",
   "execution_count": null,
   "id": "3491a56e",
   "metadata": {},
   "outputs": [],
   "source": [
    "#Substituindo todos os números pares do array f por 2\n",
    "f = np.array([0,1,2,3,4,5,6,7,8,9])\n",
    "f[arr % 2 == 1] = -1\n",
    "f"
   ]
  }
 ],
 "metadata": {
  "kernelspec": {
   "display_name": "Python 3 (ipykernel)",
   "language": "python",
   "name": "python3"
  },
  "language_info": {
   "codemirror_mode": {
    "name": "ipython",
    "version": 3
   },
   "file_extension": ".py",
   "mimetype": "text/x-python",
   "name": "python",
   "nbconvert_exporter": "python",
   "pygments_lexer": "ipython3",
   "version": "3.10.9"
  }
 },
 "nbformat": 4,
 "nbformat_minor": 5
}
